{
 "cells": [
  {
   "cell_type": "code",
   "execution_count": 2,
   "metadata": {},
   "outputs": [],
   "source": [
    "import time\n",
    "import requests\n",
    "from bs4 import BeautifulSoup\n",
    "\n",
    "payload = \"------WebKitFormBoundary7MA4YWxkTrZu0gW\\r\\nContent-Disposition: form-data; name=\\\"e_secret_key\\\"\\r\\n\\r\\n201818\\r\\n------WebKitFormBoundary7MA4YWxkTrZu0gW--\"\n",
    "headers = {\n",
    "    'user-agent': \"Mozilla/5.0 (Windows NT 6.1; Win64; x64) AppleWebKit/537.36 (KHTML, like Gecko) Chrome/67.0.3396.79 Safari/537.36\",\n",
    "    'cookie': \"UM_distinctid=1641ceaec399bc-0a90f8bd9c64e8-5b173413-1fa400-1641ceaec3b749; CNZZDATA1259444303=1992792562-1529492676-https%253A%252F%252Fcn.bing.com%252F%7C1529492676\",\n",
    "    'accept': \"text/html,application/xhtml+xml,application/xml;q=0.9,image/webp,image/apng,*/*;q=0.8\",\n",
    "    'accept-encoding': \"gzip, deflate, br\",\n",
    "    'accept-language': \"zh-CN,zh;q=0.9\",\n",
    "    'content-type': \"multipart/form-data; boundary=----WebKitFormBoundary7MA4YWxkTrZu0gW\",\n",
    "    'Cache-Control': \"no-cache\",\n",
    "}"
   ]
  },
  {
   "cell_type": "code",
   "execution_count": 3,
   "metadata": {},
   "outputs": [
    {
     "name": "stdout",
     "output_type": "stream",
     "text": [
      "-------------------------\n"
     ]
    }
   ],
   "source": [
    "book_id = input(\"输入书籍id数字，空格隔开：\"+\"\\n\")\n",
    "print(\"-\"*25)\n",
    "id_list = book_id.split(\" \")\n",
    "# 会产生长度为1的空数组，组员为空字符，有赋值则将空字符取代\n",
    "if '' in id_list:\n",
    "    id_list.remove('')"
   ]
  },
  {
   "cell_type": "code",
   "execution_count": 4,
   "metadata": {},
   "outputs": [],
   "source": [
    "def get_sobook(id):\n",
    "    url = \"https://sobooks.cc/books/\"+id+\".html\"\n",
    "    response = requests.request(\"POST\", url, data=payload, headers=headers)\n",
    "    soup = BeautifulSoup(response.text, 'html.parser')\n",
    "    response.close()\n",
    "    p_title = soup.find('title').text.split(\"格式\")[0]\n",
    "    # print(type(p_title))\n",
    "    # print(p_title)\n",
    "    print(id+\"-\"*5+p_title)\n",
    "    if p_title == '404':\n",
    "        input(\"无法取得书籍页面信息，请确认书籍ID号\"+\"-\"+id+\"-\"+\"是否正确,回车继续\")\n",
    "    else:\n",
    "        p_link = soup.find('table', {'class': 'dltable'}).find('a')['href'].split('url=')[-1]\n",
    "        pw = soup.find('div', {'class': 'e-secret'}).text.split(\"：\")[-1]\n",
    "        print(p_link+\"#\"+pw)\n",
    "    print(\"-\"*20)\n",
    "    time.sleep(2)"
   ]
  },
  {
   "cell_type": "code",
   "execution_count": 5,
   "metadata": {},
   "outputs": [
    {
     "name": "stdout",
     "output_type": "stream",
     "text": [
      "9279-----404\n",
      "--------------------\n"
     ]
    }
   ],
   "source": [
    "if id_list:\n",
    "    for f in id_list:\n",
    "        get_sobook(f)\n",
    "else:\n",
    "    input(\"未输入，按任意键退出\")"
   ]
  },
  {
   "cell_type": "code",
   "execution_count": 6,
   "metadata": {},
   "outputs": [
    {
     "name": "stdout",
     "output_type": "stream",
     "text": [
      "Done!\n"
     ]
    }
   ],
   "source": [
    "print(\"Done!\")"
   ]
  }
 ],
 "metadata": {
  "kernelspec": {
   "display_name": "Python 3",
   "language": "python",
   "name": "python3"
  },
  "language_info": {
   "codemirror_mode": {
    "name": "ipython",
    "version": 3
   },
   "file_extension": ".py",
   "mimetype": "text/x-python",
   "name": "python",
   "nbconvert_exporter": "python",
   "pygments_lexer": "ipython3",
   "version": "3.6.5"
  }
 },
 "nbformat": 4,
 "nbformat_minor": 2
}
