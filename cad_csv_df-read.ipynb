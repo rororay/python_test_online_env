{
 "cells": [
  {
   "cell_type": "code",
   "execution_count": 1,
   "metadata": {},
   "outputs": [
    {
     "name": "stdout",
     "output_type": "stream",
     "text": [
      "输入CAD输出的CSV文字值（含位置X/位置Y/与值）——方法：用txt打开此CSV，完全删除首行，复制粘贴至此+\n",
      "63.8611,820.8941,12 63.8611,884.8941,4 63.8611,876.8941,5 63.8611,868.8941,6 63.8611,908.8941,1 63.8611,900.8941,2 63.8611,892.8941,3 63.8611,836.8941,10 63.8611,828.8941,11 63.8611,812.8941,13 63.8611,860.8941,7 63.8611,852.8941,8 63.8611,844.8941,9 72.2757,884.8129,SX-T3-03-02 72.2757,876.8129,SX-T3-03-03 72.2757,892.8129,SX-T3-02-02 72.2757,900.8129,SX-T3-02-01 72.4945,908.8129,SX-T3-00-00 72.4945,836.8129,T3C-IP-07 72.4945,868.8129,SX-T3-05-01 72.4945,860.8129,SX-T3-05-02 72.4945,852.8129,T3A-IP-07 72.4945,828.8129,T3D-IP-07 72.4945,844.8129,T3B-IP-07 114.1949,908.8129,图纸目录 114.1949,836.8129,T3塔楼C户型地坪图 114.1949,868.8129,设备阳台详图(一) 114.1949,860.8129,设备阳台详图(二) 114.1949,852.8129,T3塔楼A户型地坪图 114.1949,828.8129,T3塔楼D户型地坪图 114.1949,844.8129,T3塔楼B户型地坪图 114.1949,900.8129,给水系统图（一） 114.1949,892.8129,给水系统图（二） 114.1949,876.8129,标准层给水、消防平面图 114.1949,884.8129,二层给水、消防平面图 186.3218,908.8941,A3 186.3218,884.8941,A1 186.3218,876.8941,A1 186.3218,900.8941,A1 186.3218,892.8941,A1 186.3218,836.8941,A3 186.3218,860.8941,A1 186.3218,868.8941,A1 186.3218,852.8941,A3 186.3218,828.8941,A3 186.3218,844.8941,A3\n"
     ]
    }
   ],
   "source": [
    "# -*- coding: utf-8 -*-\n",
    "\n",
    "import pandas as pd \n",
    "data = input(\"输入CAD输出的CSV文字值（含位置X/位置Y/与值）——方法：用txt打开此CSV，完全删除首行，复制粘贴至此+\\n\")"
   ]
  },
  {
   "cell_type": "code",
   "execution_count": 2,
   "metadata": {},
   "outputs": [
    {
     "name": "stdout",
     "output_type": "stream",
     "text": [
      "    编号           图号           图名  图幅\n",
      "10   1  SX-T3-00-00         图纸目录  A3\n",
      "9    2  SX-T3-02-01     给水系统图（一）  A1\n",
      "8    3  SX-T3-02-02     给水系统图（二）  A1\n",
      "7    4  SX-T3-03-02   二层给水、消防平面图  A1\n",
      "6    5  SX-T3-03-03  标准层给水、消防平面图  A1\n",
      "5    6  SX-T3-05-01    设备阳台详图(一)  A1\n",
      "4    7  SX-T3-05-02    设备阳台详图(二)  A1\n",
      "3    8    T3A-IP-07   T3塔楼A户型地坪图  A3\n",
      "2    9    T3B-IP-07   T3塔楼B户型地坪图  A3\n",
      "1   10    T3C-IP-07   T3塔楼C户型地坪图  A3\n",
      "0   11    T3D-IP-07   T3塔楼D户型地坪图  A3\n"
     ]
    },
    {
     "name": "stderr",
     "output_type": "stream",
     "text": [
      "c:\\program files\\python36\\lib\\site-packages\\ipykernel_launcher.py:9: DeprecationWarning: \n",
      ".ix is deprecated. Please use\n",
      ".loc for label based indexing or\n",
      ".iloc for positional indexing\n",
      "\n",
      "See the documentation here:\n",
      "http://pandas.pydata.org/pandas-docs/stable/indexing.html#ix-indexer-is-deprecated\n",
      "  if __name__ == '__main__':\n",
      "c:\\program files\\python36\\lib\\site-packages\\ipykernel_launcher.py:49: DeprecationWarning: \n",
      ".ix is deprecated. Please use\n",
      ".loc for label based indexing or\n",
      ".iloc for positional indexing\n",
      "\n",
      "See the documentation here:\n",
      "http://pandas.pydata.org/pandas-docs/stable/indexing.html#ix-indexer-is-deprecated\n"
     ]
    }
   ],
   "source": [
    "\n",
    "data_list = data.split(' ')\n",
    "new_data_list = []\n",
    "for d in data_list:\n",
    "    new_data_list.append(d.split(','))\n",
    "df = pd.DataFrame(new_data_list)\n",
    "cols = list(df)\n",
    "cols.insert(0, cols.pop(cols.index(cols[1])))\n",
    "df = df.ix[:, cols]\n",
    "y_list = []\n",
    "y_list_del = []\n",
    "for i in df[cols[0]]:\n",
    "    y_list.append(int(float(i)))\n",
    "\n",
    "df['int_y'] = y_list\n",
    "\n",
    "\n",
    "for i in y_list:\n",
    "  if y_list.count(i)==1:\n",
    "      y_list_del.append(i)\n",
    "        \n",
    "y_list_ret = list(set(list(set(y_list))) ^ set(y_list_del))\n",
    "y_list_ret.sort()\n",
    "\n",
    "for indexs in df.index:\n",
    "    i_y = df.loc[indexs].values[3]\n",
    "    if i_y in y_list_del:\n",
    "        df.drop([indexs],inplace=True)\n",
    "# 按int_y列进行降序排序\n",
    "df.sort_values([\"int_y\",cols[1],],ascending=True,inplace=True)\n",
    "\n",
    "# 按对每张图纸进行顺序数列赋值，然后再成为整表的形式的数列\n",
    "item_list = []\n",
    "for i in y_list_ret:\n",
    "    item = []\n",
    "    for indexs in df.index:\n",
    "        if df.loc[indexs].values[3] == i:\n",
    "            item.append(df.loc[indexs].values[2])\n",
    "    item_list.append(item)\n",
    "\n",
    "new_df = pd.DataFrame(item_list)\n",
    "# 强制更改列名\n",
    "# new_df.columns = [\"no\",\"dr_num\",\"dr_name\",\"dr_ver\"]\n",
    "new_df.columns = [\"图名\",\"图幅\",\"编号\",\"图号\"]\n",
    "cols = list(new_df)\n",
    "cols.insert(0, cols.pop(cols.index(cols[2])))\n",
    "cols.insert(1, cols.pop(cols.index(cols[3])))\n",
    "# print(cols)\n",
    "new_df = new_df.ix[:, cols]\n",
    "\n",
    "# 按索引倒叙排列\n",
    "new_df.sort_index(ascending=False,inplace=True)\n",
    "print(new_df)\n"
   ]
  }
 ],
 "metadata": {
  "kernelspec": {
   "display_name": "Python 3",
   "language": "python",
   "name": "python3"
  },
  "language_info": {
   "codemirror_mode": {
    "name": "ipython",
    "version": 3
   },
   "file_extension": ".py",
   "mimetype": "text/x-python",
   "name": "python",
   "nbconvert_exporter": "python",
   "pygments_lexer": "ipython3",
   "version": "3.6.5"
  }
 },
 "nbformat": 4,
 "nbformat_minor": 2
}
